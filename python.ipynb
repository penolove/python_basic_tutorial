{
 "cells": [
  {
   "cell_type": "markdown",
   "metadata": {},
   "source": [
    "![title](spark.png)"
   ]
  },
  {
   "cell_type": "markdown",
   "metadata": {
    "collapsed": false
   },
   "source": [
    "## 讓我們從 Python的基礎 開始吧！\n",
    "# Lab1 int /float /string/list /tuple /set/ dict"
   ]
  },
  {
   "cell_type": "markdown",
   "metadata": {},
   "source": [
    "### (1a) 數值運算（int/float） : + - * / %"
   ]
  },
  {
   "cell_type": "code",
   "execution_count": 2,
   "metadata": {
    "collapsed": false
   },
   "outputs": [
    {
     "name": "stdout",
     "output_type": "stream",
     "text": [
      "2\n",
      "2\n",
      "2\n",
      "2.0\n",
      "7\n"
     ]
    }
   ],
   "source": [
    "print 1+1 \n",
    "print 3-1\n",
    "print 4/2\n",
    "print 4*0.5 \n",
    "print 7%66 "
   ]
  },
  {
   "cell_type": "markdown",
   "metadata": {
    "collapsed": true
   },
   "source": [
    "\n",
    "##### *注意到跟0.5運算之後 int 變float了嗎？ howhow no 神奇小魔術*\n"
   ]
  },
  {
   "cell_type": "markdown",
   "metadata": {},
   "source": [
    "### (1b) 字串 : 直接用 \"/ ' 接起來 "
   ]
  },
  {
   "cell_type": "code",
   "execution_count": 3,
   "metadata": {
    "collapsed": false
   },
   "outputs": [
    {
     "name": "stdout",
     "output_type": "stream",
     "text": [
      "hellohello\n"
     ]
    }
   ],
   "source": [
    "x= \"hello\"\n",
    "print x*2"
   ]
  },
  {
   "cell_type": "code",
   "execution_count": 4,
   "metadata": {
    "collapsed": false
   },
   "outputs": [
    {
     "ename": "TypeError",
     "evalue": "'str' object does not support item assignment",
     "output_type": "error",
     "traceback": [
      "\u001b[1;31m---------------------------------------------------------------------------\u001b[0m",
      "\u001b[1;31mTypeError\u001b[0m                                 Traceback (most recent call last)",
      "\u001b[1;32m<ipython-input-4-c779aa147a43>\u001b[0m in \u001b[0;36m<module>\u001b[1;34m()\u001b[0m\n\u001b[0;32m      1\u001b[0m \u001b[1;31m# string are immutable\u001b[0m\u001b[1;33m\u001b[0m\u001b[1;33m\u001b[0m\u001b[0m\n\u001b[1;32m----> 2\u001b[1;33m \u001b[0mx\u001b[0m\u001b[1;33m[\u001b[0m\u001b[1;36m2\u001b[0m\u001b[1;33m]\u001b[0m\u001b[1;33m=\u001b[0m\u001b[1;34m\"a\"\u001b[0m\u001b[1;33m\u001b[0m\u001b[0m\n\u001b[0m",
      "\u001b[1;31mTypeError\u001b[0m: 'str' object does not support item assignment"
     ]
    }
   ],
   "source": [
    "# string are immutable\n",
    "x[2]=\"a\""
   ]
  },
  {
   "cell_type": "code",
   "execution_count": 5,
   "metadata": {
    "collapsed": false
   },
   "outputs": [
    {
     "name": "stdout",
     "output_type": "stream",
     "text": [
      "'hello''hello'\n"
     ]
    }
   ],
   "source": [
    "x= \"'hello'\"\n",
    "print x*2"
   ]
  },
  {
   "cell_type": "markdown",
   "metadata": {},
   "source": [
    "### (1c) List : 用中括號[] 將元素框起來"
   ]
  },
  {
   "cell_type": "code",
   "execution_count": 7,
   "metadata": {
    "collapsed": false
   },
   "outputs": [
    {
     "name": "stdout",
     "output_type": "stream",
     "text": [
      "[1, 2, 3, 4, 5, 6]\n",
      "[1, 2, 3, 4, 5, 6, 1, 2, 3, 4, 5, 6]\n",
      "6\n",
      "12\n"
     ]
    }
   ],
   "source": [
    "x=[1,2,3,4,5,6]\n",
    "print x\n",
    "print x*2\n",
    "print len(x)\n",
    "print len(x*2)"
   ]
  },
  {
   "cell_type": "code",
   "execution_count": 8,
   "metadata": {
    "collapsed": false
   },
   "outputs": [
    {
     "name": "stdout",
     "output_type": "stream",
     "text": [
      "[1, 2, 'a', 4, 5, 6]\n"
     ]
    }
   ],
   "source": [
    "x[2]=\"a\"\n",
    "print x"
   ]
  },
  {
   "cell_type": "code",
   "execution_count": 9,
   "metadata": {
    "collapsed": false
   },
   "outputs": [
    {
     "name": "stdout",
     "output_type": "stream",
     "text": [
      "[1, 2, 'a', 4, 5, 6, ['a']]\n"
     ]
    }
   ],
   "source": [
    "x.append(['a'])\n",
    "print x"
   ]
  },
  {
   "cell_type": "code",
   "execution_count": 10,
   "metadata": {
    "collapsed": false
   },
   "outputs": [
    {
     "name": "stdout",
     "output_type": "stream",
     "text": [
      "[1, 2, 'a', 4, 5, 6]\n"
     ]
    }
   ],
   "source": [
    "# pop default delete the last one element if not given index\n",
    "x.pop()\n",
    "print x"
   ]
  },
  {
   "cell_type": "code",
   "execution_count": 11,
   "metadata": {
    "collapsed": false
   },
   "outputs": [
    {
     "name": "stdout",
     "output_type": "stream",
     "text": [
      "[1, 2, 'a', 4, 5, 6, 'a']\n"
     ]
    }
   ],
   "source": [
    "x.append('a')\n",
    "print x"
   ]
  },
  {
   "cell_type": "code",
   "execution_count": 12,
   "metadata": {
    "collapsed": false
   },
   "outputs": [
    {
     "name": "stdout",
     "output_type": "stream",
     "text": [
      "[1, 2, 'a', 4, 5, 6, 'a', 'a', '1', 1, 2, 3, 4]\n"
     ]
    }
   ],
   "source": [
    "x.extend(['a','1',1,2,3,4])\n",
    "print x"
   ]
  },
  {
   "cell_type": "code",
   "execution_count": 13,
   "metadata": {
    "collapsed": false
   },
   "outputs": [
    {
     "name": "stdout",
     "output_type": "stream",
     "text": [
      "[4, 3, 2, 1, '1', 'a', 'a', 6, 5, 4, 'a', 2, 1]\n"
     ]
    }
   ],
   "source": [
    "x.reverse()\n",
    "print x"
   ]
  },
  {
   "cell_type": "code",
   "execution_count": 14,
   "metadata": {
    "collapsed": false
   },
   "outputs": [
    {
     "name": "stdout",
     "output_type": "stream",
     "text": [
      "5\n",
      "7\n",
      "3\n",
      "4\n"
     ]
    }
   ],
   "source": [
    "print x.index('a')\n",
    "print x.index(6)\n",
    "print x.index(1)\n",
    "print x.index('1')"
   ]
  },
  {
   "cell_type": "markdown",
   "metadata": {},
   "source": [
    "### (1d) tuple : 用小括號() 將元素框起來"
   ]
  },
  {
   "cell_type": "code",
   "execution_count": 15,
   "metadata": {
    "collapsed": false
   },
   "outputs": [
    {
     "name": "stdout",
     "output_type": "stream",
     "text": [
      "(1, 2)\n",
      "5\n"
     ]
    }
   ],
   "source": [
    "x=(1,2,3,4,5)\n",
    "print x[0:2]\n",
    "print len(x)"
   ]
  },
  {
   "cell_type": "code",
   "execution_count": 16,
   "metadata": {
    "collapsed": false
   },
   "outputs": [
    {
     "ename": "TypeError",
     "evalue": "'tuple' object does not support item assignment",
     "output_type": "error",
     "traceback": [
      "\u001b[1;31m---------------------------------------------------------------------------\u001b[0m",
      "\u001b[1;31mTypeError\u001b[0m                                 Traceback (most recent call last)",
      "\u001b[1;32m<ipython-input-16-4efd69ff5116>\u001b[0m in \u001b[0;36m<module>\u001b[1;34m()\u001b[0m\n\u001b[0;32m      1\u001b[0m \u001b[1;31m# tuple is immutable\u001b[0m\u001b[1;33m\u001b[0m\u001b[1;33m\u001b[0m\u001b[0m\n\u001b[1;32m----> 2\u001b[1;33m \u001b[0mx\u001b[0m\u001b[1;33m[\u001b[0m\u001b[1;36m2\u001b[0m\u001b[1;33m]\u001b[0m\u001b[1;33m=\u001b[0m\u001b[1;36m0\u001b[0m\u001b[1;33m\u001b[0m\u001b[0m\n\u001b[0m",
      "\u001b[1;31mTypeError\u001b[0m: 'tuple' object does not support item assignment"
     ]
    }
   ],
   "source": [
    "# tuple is immutable\n",
    "x[2]=0"
   ]
  },
  {
   "cell_type": "markdown",
   "metadata": {},
   "source": [
    "### (1e) set : 用大括號{} 將元素框起來"
   ]
  },
  {
   "cell_type": "code",
   "execution_count": 17,
   "metadata": {
    "collapsed": false
   },
   "outputs": [
    {
     "name": "stdout",
     "output_type": "stream",
     "text": [
      "set([1, 2, 3, 4, 5, 6, 7, 8, 9, 10])\n",
      "set([8, 10, 4, 2, 6])\n"
     ]
    }
   ],
   "source": [
    "x={1,2,3,4,5,6,7,8,9,10}\n",
    "y={2,2,4,4,6,6,8,8,10,10}\n",
    "print x\n",
    "print y"
   ]
  },
  {
   "cell_type": "code",
   "execution_count": 18,
   "metadata": {
    "collapsed": false
   },
   "outputs": [
    {
     "name": "stdout",
     "output_type": "stream",
     "text": [
      "False\n",
      "True\n"
     ]
    }
   ],
   "source": [
    "print x < y\n",
    "print y < x"
   ]
  },
  {
   "cell_type": "code",
   "execution_count": 19,
   "metadata": {
    "collapsed": false
   },
   "outputs": [
    {
     "name": "stdout",
     "output_type": "stream",
     "text": [
      "True\n",
      "False\n"
     ]
    }
   ],
   "source": [
    "print 1 in x\n",
    "print 1 in y"
   ]
  },
  {
   "cell_type": "code",
   "execution_count": 20,
   "metadata": {
    "collapsed": false
   },
   "outputs": [
    {
     "name": "stdout",
     "output_type": "stream",
     "text": [
      "set([8, 10, 4, 2, 6])\n",
      "set([1, 3, 9, 5, 7])\n",
      "set([])\n",
      "set([1, 3, 5, 7, 9])\n"
     ]
    }
   ],
   "source": [
    "print x&y\n",
    "print x-y\n",
    "print y-x\n",
    "print x^y"
   ]
  },
  {
   "cell_type": "code",
   "execution_count": 21,
   "metadata": {
    "collapsed": false
   },
   "outputs": [
    {
     "data": {
      "text/plain": [
       "10"
      ]
     },
     "execution_count": 21,
     "metadata": {},
     "output_type": "execute_result"
    }
   ],
   "source": [
    "len(x)"
   ]
  },
  {
   "cell_type": "markdown",
   "metadata": {},
   "source": [
    "### (1f) dict : 用大括號{} 將 key：元素 框起來"
   ]
  },
  {
   "cell_type": "code",
   "execution_count": 22,
   "metadata": {
    "collapsed": false
   },
   "outputs": [
    {
     "data": {
      "text/plain": [
       "'BGG'"
      ]
     },
     "execution_count": 22,
     "metadata": {},
     "output_type": "execute_result"
    }
   ],
   "source": [
    "x={\"Chi-hua\":\"BGG\",\"Zhow\":\"sgg\"}\n",
    "\n",
    "x[\"Chi-hua\"]\n"
   ]
  },
  {
   "cell_type": "code",
   "execution_count": 23,
   "metadata": {
    "collapsed": false
   },
   "outputs": [
    {
     "ename": "KeyError",
     "evalue": "'Chi-hua1'",
     "output_type": "error",
     "traceback": [
      "\u001b[1;31m---------------------------------------------------------------------------\u001b[0m",
      "\u001b[1;31mKeyError\u001b[0m                                  Traceback (most recent call last)",
      "\u001b[1;32m<ipython-input-23-ad58b0fa9e87>\u001b[0m in \u001b[0;36m<module>\u001b[1;34m()\u001b[0m\n\u001b[1;32m----> 1\u001b[1;33m \u001b[0mx\u001b[0m\u001b[1;33m[\u001b[0m\u001b[1;34m\"Chi-hua1\"\u001b[0m\u001b[1;33m]\u001b[0m\u001b[1;33m\u001b[0m\u001b[0m\n\u001b[0m",
      "\u001b[1;31mKeyError\u001b[0m: 'Chi-hua1'"
     ]
    }
   ],
   "source": [
    "x[\"Chi-hua1\"]"
   ]
  },
  {
   "cell_type": "code",
   "execution_count": 24,
   "metadata": {
    "collapsed": false
   },
   "outputs": [
    {
     "name": "stdout",
     "output_type": "stream",
     "text": [
      "super BGG\n"
     ]
    }
   ],
   "source": [
    "print x.get(\"Chi-hua1\",\"super BGG\")"
   ]
  },
  {
   "cell_type": "code",
   "execution_count": 26,
   "metadata": {
    "collapsed": false
   },
   "outputs": [
    {
     "name": "stdout",
     "output_type": "stream",
     "text": [
      "{'sgg': 2, 'super': 2, 'loser': 3, 'for': 1}\n"
     ]
    }
   ],
   "source": [
    "# roughly word count\n",
    "z=[\"for\",\"super\",\"loser\", \"super\",\"loser\",\"loser\",\"sgg\",\"sgg\"]\n",
    "w=dict()\n",
    "for i in z:\n",
    "    w[i]=w.get(i,0)+1\n",
    "print w"
   ]
  },
  {
   "cell_type": "code",
   "execution_count": 27,
   "metadata": {
    "collapsed": false
   },
   "outputs": [
    {
     "name": "stdout",
     "output_type": "stream",
     "text": [
      "[('sgg', 2), ('super', 2), ('loser', 3), ('for', 1)]\n",
      "('sgg', 2)\n",
      "sgg\n"
     ]
    }
   ],
   "source": [
    "q=w.items()\n",
    "print q\n",
    "print q[0]\n",
    "print q[0][0]"
   ]
  },
  {
   "cell_type": "code",
   "execution_count": 28,
   "metadata": {
    "collapsed": false
   },
   "outputs": [
    {
     "data": {
      "text/plain": [
       "{'for': 1, 'loser': 3, 'sgg': 2, 'super': 2}"
      ]
     },
     "execution_count": 28,
     "metadata": {},
     "output_type": "execute_result"
    }
   ],
   "source": [
    "#initalize dict from list [(a,b),(c,d)]\n",
    "dict(q)"
   ]
  },
  {
   "cell_type": "code",
   "execution_count": 29,
   "metadata": {
    "collapsed": false
   },
   "outputs": [
    {
     "name": "stdout",
     "output_type": "stream",
     "text": [
      "[1, 2, 3, 4, 5]\n",
      "[1, 2, 3, 4, 5]\n",
      "True\n",
      "True\n"
     ]
    }
   ],
   "source": [
    "# before we go on we should know something differernt from R\n",
    "# everything in python is a object\n",
    "X=[1,2,3,4,5,6]\n",
    "Y=X\n",
    "Y.pop()\n",
    "print Y\n",
    "print X\n",
    "print Y is X\n",
    "print Y==X"
   ]
  },
  {
   "cell_type": "code",
   "execution_count": 30,
   "metadata": {
    "collapsed": false
   },
   "outputs": [
    {
     "name": "stdout",
     "output_type": "stream",
     "text": [
      "False\n",
      "True\n",
      "[1, 2, 3, 4, 5]\n",
      "[1, 2, 3, 4, 5, 6]\n",
      "False\n",
      "True\n"
     ]
    }
   ],
   "source": [
    "X=[1,2,3,4,5,6]\n",
    "Y=[1,2,3,4,5,6]\n",
    "print Y is X\n",
    "print Y==X\n",
    "Y.pop()\n",
    "print Y\n",
    "print X\n",
    "\n",
    "import copy\n",
    "X=[1,2,3,4,5,6]\n",
    "Y=copy.copy(X)\n",
    "print Y is X\n",
    "print Y==X"
   ]
  },
  {
   "cell_type": "code",
   "execution_count": 31,
   "metadata": {
    "collapsed": false
   },
   "outputs": [
    {
     "name": "stdout",
     "output_type": "stream",
     "text": [
      "Zhow\n",
      "Zhow\n",
      "Zhow\n",
      "Lin\n",
      "Lin\n"
     ]
    }
   ],
   "source": [
    "a=[\"Zhow\" ,\"Zhow\" ,\"Zhow\" , \"Lin\",\"Lin\"]\n",
    "for i in a:\n",
    "    print i \n",
    "    \n",
    "#Zhow: kerker\n",
    "#Zhow: kerker\n",
    "#Zhow: kerker\n",
    "#Lin: kerker\n",
    "#Lin: kerker"
   ]
  },
  {
   "cell_type": "markdown",
   "metadata": {},
   "source": [
    "# 讓我們開始lab 2 吧 if/for/while"
   ]
  },
  {
   "cell_type": "markdown",
   "metadata": {},
   "source": [
    "### (2a) if else else if"
   ]
  },
  {
   "cell_type": "code",
   "execution_count": 33,
   "metadata": {
    "collapsed": false
   },
   "outputs": [
    {
     "name": "stdout",
     "output_type": "stream",
     "text": [
      "obama shut up\n",
      "bike good good\n",
      "go away,zhow\n"
     ]
    }
   ],
   "source": [
    "x=[\"obama\",\"o gi sa n\",\"o my god\"]\n",
    "\n",
    "for i in x:\n",
    "    if(i==\"obama\"):\n",
    "        print \"obama shut up\"\n",
    "    elif (i==\"o gi sa n\"):\n",
    "        print \"bike good good\"\n",
    "    else:\n",
    "        print \"go away,zhow\"\n"
   ]
  },
  {
   "cell_type": "markdown",
   "metadata": {},
   "source": [
    "### (2b) For Loop"
   ]
  },
  {
   "cell_type": "code",
   "execution_count": 34,
   "metadata": {
    "collapsed": false
   },
   "outputs": [
    {
     "name": "stdout",
     "output_type": "stream",
     "text": [
      "k\n",
      "e\n",
      "r\n",
      "k\n",
      "e\n",
      "r\n"
     ]
    }
   ],
   "source": [
    "for i in \"kerker\":\n",
    "    print i"
   ]
  },
  {
   "cell_type": "code",
   "execution_count": 35,
   "metadata": {
    "collapsed": false
   },
   "outputs": [
    {
     "name": "stdout",
     "output_type": "stream",
     "text": [
      "kerker\n",
      "kerker\n",
      "kerker\n"
     ]
    }
   ],
   "source": [
    "x=[\"obama\",\"o gi sa n\",\"o my god\"]\n",
    "for i in x:\n",
    "    print(\"kerker\")"
   ]
  },
  {
   "cell_type": "code",
   "execution_count": 36,
   "metadata": {
    "collapsed": false
   },
   "outputs": [
    {
     "name": "stdout",
     "output_type": "stream",
     "text": [
      "1\n",
      "2\n",
      "3\n",
      "4\n"
     ]
    }
   ],
   "source": [
    "for i in (1,2,3,4):\n",
    "    print i"
   ]
  },
  {
   "cell_type": "code",
   "execution_count": 38,
   "metadata": {
    "collapsed": false
   },
   "outputs": [
    {
     "name": "stdout",
     "output_type": "stream",
     "text": [
      "[0, 1, 2, 3, 4]\n",
      "[3, 4, 5, 6]\n"
     ]
    }
   ],
   "source": [
    "print range(5)\n",
    "print range(3,7)"
   ]
  },
  {
   "cell_type": "code",
   "execution_count": 38,
   "metadata": {
    "collapsed": false
   },
   "outputs": [
    {
     "name": "stdout",
     "output_type": "stream",
     "text": [
      "kerker0\n",
      "kerker1\n",
      "kerker2\n",
      "kerker3\n",
      "kerker4\n"
     ]
    }
   ],
   "source": [
    "for i in range(5):\n",
    "    print(\"kerker\"+str(i))"
   ]
  },
  {
   "cell_type": "code",
   "execution_count": 39,
   "metadata": {
    "collapsed": false
   },
   "outputs": [
    {
     "name": "stdout",
     "output_type": "stream",
     "text": [
      "1\n",
      "2\n",
      "3\n",
      "4\n"
     ]
    }
   ],
   "source": [
    "# set can also be looped\n",
    "for i in {1,2,3,4}:\n",
    "    print i"
   ]
  },
  {
   "cell_type": "code",
   "execution_count": 40,
   "metadata": {
    "collapsed": false
   },
   "outputs": [
    {
     "name": "stdout",
     "output_type": "stream",
     "text": [
      "a\n",
      "b\n"
     ]
    }
   ],
   "source": [
    "# dict can also be looped\n",
    "for (key) in {\"a\":1,\"b\":2}:\n",
    "    print (key)"
   ]
  },
  {
   "cell_type": "code",
   "execution_count": 41,
   "metadata": {
    "collapsed": false
   },
   "outputs": [
    {
     "ename": "TypeError",
     "evalue": "'int' object is not iterable",
     "output_type": "error",
     "traceback": [
      "\u001b[1;31m---------------------------------------------------------------------------\u001b[0m",
      "\u001b[1;31mTypeError\u001b[0m                                 Traceback (most recent call last)",
      "\u001b[1;32m<ipython-input-41-35183f989571>\u001b[0m in \u001b[0;36m<module>\u001b[1;34m()\u001b[0m\n\u001b[0;32m      1\u001b[0m \u001b[1;31m#object is not iterable ,\u001b[0m\u001b[1;33m\u001b[0m\u001b[1;33m\u001b[0m\u001b[0m\n\u001b[1;32m----> 2\u001b[1;33m \u001b[1;32mfor\u001b[0m \u001b[0mi\u001b[0m \u001b[1;32min\u001b[0m \u001b[1;36m1\u001b[0m\u001b[1;33m:\u001b[0m\u001b[1;33m\u001b[0m\u001b[0m\n\u001b[0m\u001b[0;32m      3\u001b[0m     \u001b[1;32mprint\u001b[0m \u001b[0mi\u001b[0m\u001b[1;33m\u001b[0m\u001b[0m\n",
      "\u001b[1;31mTypeError\u001b[0m: 'int' object is not iterable"
     ]
    }
   ],
   "source": [
    "#object is not iterable ,\n",
    "for i in 1:\n",
    "    print i"
   ]
  },
  {
   "cell_type": "code",
   "execution_count": 42,
   "metadata": {
    "collapsed": false
   },
   "outputs": [
    {
     "name": "stdout",
     "output_type": "stream",
     "text": [
      "obama shut up\n",
      "==============kerker===============\n",
      "bike good good\n",
      "==============kerker===============\n",
      "go away\n",
      "obama shut up\n",
      "==============kerker===============\n",
      "bike good good\n",
      "==============kerker===============\n",
      "go away\n"
     ]
    }
   ],
   "source": [
    "#continue\n",
    "x=[\"obama\",\"o gi sa n\",\"o my god\"]\n",
    "x=x*2\n",
    "\n",
    "for i in x:\n",
    "    if(i==\"obama\"):\n",
    "        print \"obama shut up\"\n",
    "    elif (i==\"o gi sa n\"):\n",
    "        print \"bike good good\"\n",
    "    else:\n",
    "        print \"go away\"\n",
    "        continue\n",
    "    print(\"==============kerker===============\")"
   ]
  },
  {
   "cell_type": "code",
   "execution_count": 44,
   "metadata": {
    "collapsed": false
   },
   "outputs": [
    {
     "name": "stdout",
     "output_type": "stream",
     "text": [
      "obama shut up\n",
      "kerker\n",
      "bike good good\n",
      "kerker\n",
      "go away\n"
     ]
    }
   ],
   "source": [
    "#break\n",
    "x=[\"obama\",\"o gi sa n\",\"o my god\",\"obama\"]\n",
    "x=x*2\n",
    "\n",
    "for i in x:\n",
    "    if(i==\"obama\"):\n",
    "        print \"obama shut up\"\n",
    "    elif (i==\"o gi sa n\"):\n",
    "        print \"bike good good\"\n",
    "    else:\n",
    "        print \"go away\"\n",
    "        break\n",
    "    print(\"kerker\")"
   ]
  },
  {
   "cell_type": "markdown",
   "metadata": {},
   "source": [
    "### (2c) while"
   ]
  },
  {
   "cell_type": "code",
   "execution_count": 45,
   "metadata": {
    "collapsed": false
   },
   "outputs": [
    {
     "name": "stdout",
     "output_type": "stream",
     "text": [
      "['obama', 'o gi sa n', 'o my god', 'obama', 'o gi sa n', 'o my god', 'loser king']\n",
      "＝＝＝＝＝＝＝＝＝\n",
      "obama shut up\n",
      "kerker\n",
      "bike good good\n",
      "kerker\n",
      "go away\n",
      "obama shut up\n",
      "kerker\n",
      "bike good good\n",
      "kerker\n",
      "go away\n"
     ]
    }
   ],
   "source": [
    "x=[\"obama\",\"o gi sa n\",\"o my god\"]\n",
    "x=x*2\n",
    "x.append(\"loser king\")\n",
    "print x\n",
    "count=-1\n",
    "\n",
    "print \"＝＝＝＝＝＝＝＝＝\"\n",
    "\n",
    "while(1==1):\n",
    "    count=count+1\n",
    "    i=x[count]\n",
    "    if(i==\"obama\"):\n",
    "        print \"obama shut up\"\n",
    "    elif (i==\"o gi sa n\"):\n",
    "        print \"bike good good\"\n",
    "    elif (i==\"o my god\"):\n",
    "        print \"go away\"\n",
    "        continue\n",
    "    else:\n",
    "        break\n",
    "    print(\"kerker\")\n"
   ]
  },
  {
   "cell_type": "markdown",
   "metadata": {},
   "source": [
    "### (excerise 1 )\n",
    "#### 小明是個貪得無饜的人, 收集了一堆垃圾存在 List A裡\n",
    "#### 請協助他計算:\n",
    "+ #### (a) 到底有多少垃圾 (function of sequence types)\n",
    "+ #### (b) 到底有多少種垃圾 (unique elements in list)\n",
    "+ #### (c) 到底每種垃圾有多少個 ()\n",
    "#### 並將a~c 存成 dict() X i.e. X['a'] = ans of (a)"
   ]
  },
  {
   "cell_type": "code",
   "execution_count": 48,
   "metadata": {
    "collapsed": false
   },
   "outputs": [
    {
     "name": "stdout",
     "output_type": "stream",
     "text": [
      "31\n",
      "set(['C', 'garbage', '19', 'M', 'QQo', 'm', 'howhow', 'T', 'H', 'trash', 'Loser', 'K', 'oppo'])\n"
     ]
    },
    {
     "data": {
      "text/plain": [
       "{'19': 2,\n",
       " 'C': 1,\n",
       " 'H': 2,\n",
       " 'K': 2,\n",
       " 'Loser': 8,\n",
       " 'M': 2,\n",
       " 'QQo': 3,\n",
       " 'T': 3,\n",
       " 'garbage': 1,\n",
       " 'howhow': 1,\n",
       " 'm': 2,\n",
       " 'oppo': 2,\n",
       " 'trash': 2}"
      ]
     },
     "execution_count": 48,
     "metadata": {},
     "output_type": "execute_result"
    }
   ],
   "source": [
    "A=['garbage','trash','m','19','QQo','trash','m','19','QQo','K','M','QQo','T','K','M','howhow','Loser','Loser','Loser','Loser','oppo','H',\\\n",
    "   'T','C','Loser','Loser','Loser','Loser','oppo','H','T']\n",
    "#A\n",
    "print len(A)\n",
    "#B\n",
    "print(set(A))\n",
    "#C\n",
    "w=dict()\n",
    "for i in A:\n",
    "    w[i]=w.get(i,0)+1\n",
    "w"
   ]
  },
  {
   "cell_type": "markdown",
   "metadata": {},
   "source": [
    "# 耶 Lab3 字串處理/ 自訂function /類別1"
   ]
  },
  {
   "cell_type": "markdown",
   "metadata": {},
   "source": [
    "### 3(a) 字串處理+ 一點點function +一點點自訂function\n",
    "what we wnat is **word count** of string below\n"
   ]
  },
  {
   "cell_type": "code",
   "execution_count": 59,
   "metadata": {
    "collapsed": false
   },
   "outputs": [],
   "source": [
    "x=\"oh Man,you are just a ker ker man, I don't want talk to you. Just go eat shit.\" "
   ]
  },
  {
   "cell_type": "code",
   "execution_count": 60,
   "metadata": {
    "collapsed": false
   },
   "outputs": [
    {
     "data": {
      "text/plain": [
       "['oh',\n",
       " 'Man,you',\n",
       " 'are',\n",
       " 'just',\n",
       " 'a',\n",
       " 'ker',\n",
       " 'ker',\n",
       " 'man,',\n",
       " 'I',\n",
       " \"don't\",\n",
       " 'want',\n",
       " 'talk',\n",
       " 'to',\n",
       " 'you.',\n",
       " 'Just',\n",
       " 'go',\n",
       " 'eat',\n",
       " 'shit.']"
      ]
     },
     "execution_count": 60,
     "metadata": {},
     "output_type": "execute_result"
    }
   ],
   "source": [
    "x.split(\" \")"
   ]
  },
  {
   "cell_type": "code",
   "execution_count": 61,
   "metadata": {
    "collapsed": false
   },
   "outputs": [
    {
     "data": {
      "text/plain": [
       "['oh Man',\n",
       " 'you are just a ker ker man',\n",
       " \" I don't want talk to you. Just go eat shit.\"]"
      ]
     },
     "execution_count": 61,
     "metadata": {},
     "output_type": "execute_result"
    }
   ],
   "source": [
    "x.split(\",\")"
   ]
  },
  {
   "cell_type": "code",
   "execution_count": 62,
   "metadata": {
    "collapsed": false
   },
   "outputs": [
    {
     "name": "stdout",
     "output_type": "stream",
     "text": [
      "oh Man you are just a ker ker man  I don't want talk to you  Just go eat shit \n"
     ]
    }
   ],
   "source": [
    "x1=x.replace(\",\",\" \")\n",
    "x1=x1.replace(\".\",\" \")\n",
    "print x1"
   ]
  },
  {
   "cell_type": "code",
   "execution_count": 63,
   "metadata": {
    "collapsed": false
   },
   "outputs": [],
   "source": [
    "sp=x1.split(\" \")"
   ]
  },
  {
   "cell_type": "code",
   "execution_count": 64,
   "metadata": {
    "collapsed": false
   },
   "outputs": [
    {
     "name": "stdout",
     "output_type": "stream",
     "text": [
      "{'a': 1, '': 3, 'Just': 1, 'just': 1, 'oh': 1, 'I': 1, \"don't\": 1, 'eat': 1, 'shit': 1, 'to': 1, 'are': 1, 'want': 1, 'go': 1, 'you': 2, 'man': 1, 'ker': 2, 'talk': 1, 'Man': 1}\n"
     ]
    }
   ],
   "source": [
    "w=dict()\n",
    "for i in sp:\n",
    "    w[i]=w.get(i,0)+1\n",
    "print w"
   ]
  },
  {
   "cell_type": "code",
   "execution_count": 65,
   "metadata": {
    "collapsed": false
   },
   "outputs": [
    {
     "name": "stdout",
     "output_type": "stream",
     "text": [
      "{'a': 1, '': 3, 'just': 2, 'oh': 1, 'i': 1, \"don't\": 1, 'eat': 1, 'shit': 1, 'to': 1, 'are': 1, 'want': 1, 'go': 1, 'you': 2, 'ker': 2, 'talk': 1, 'man': 2}\n"
     ]
    }
   ],
   "source": [
    "#all to lower\n",
    "w=dict()\n",
    "for i in sp:\n",
    "    i=i.lower()\n",
    "    w[i]=w.get(i,0)+1\n",
    "print w\n",
    "#but there are some empty string 3 times"
   ]
  },
  {
   "cell_type": "code",
   "execution_count": 66,
   "metadata": {
    "collapsed": false
   },
   "outputs": [
    {
     "name": "stdout",
     "output_type": "stream",
     "text": [
      "oh Man you are just a ker ker man  I don't want talk to you  Just go eat shit \n",
      "oh Man you are just a ker ker man  I don't want talk to you  Just go eat shit\n",
      "{'a': 1, '': 2, 'just': 2, 'oh': 1, 'i': 1, \"don't\": 1, 'eat': 1, 'shit': 1, 'to': 1, 'are': 1, 'want': 1, 'go': 1, 'you': 2, 'ker': 2, 'talk': 1, 'man': 2}\n"
     ]
    }
   ],
   "source": [
    "print x1\n",
    "#remove whitespaces at right side\n",
    "x1=x1.rstrip()\n",
    "print x1\n",
    "sp=x1.split(\" \")\n",
    "w=dict()\n",
    "for i in sp:\n",
    "    i=i.lower()\n",
    "    w[i]=w.get(i,0)+1\n",
    "print w"
   ]
  },
  {
   "cell_type": "code",
   "execution_count": 67,
   "metadata": {
    "collapsed": false
   },
   "outputs": [
    {
     "name": "stdout",
     "output_type": "stream",
     "text": [
      "['oh', 'Man', 'you', 'are', 'just', 'a', 'ker', 'ker', 'man', '', 'I', \"don't\", 'want', 'talk', 'to', 'you', '', 'Just', 'go', 'eat', 'shit', '']\n"
     ]
    }
   ],
   "source": [
    "#still some whitespaces , 8Q！！you can strict string should not be empty.\n",
    "#why not consider some Ez funtion?\n",
    "import re\n",
    "q=re.split('\\.| |,',x)\n",
    "print q"
   ]
  },
  {
   "cell_type": "code",
   "execution_count": 68,
   "metadata": {
    "collapsed": false
   },
   "outputs": [
    {
     "name": "stdout",
     "output_type": "stream",
     "text": [
      "['oh', 'Man', 'you', 'are', 'just', 'a', 'ker', 'ker', 'man', 'I', \"don't\", 'want', 'talk', 'to', 'you', 'Just', 'go', 'eat', 'shit']\n",
      "['oh', 'man', 'you', 'are', 'just', 'a', 'ker', 'ker', 'man', 'i', \"don't\", 'want', 'talk', 'to', 'you', 'just', 'go', 'eat', 'shit']\n"
     ]
    }
   ],
   "source": [
    "def nonempty(x):\n",
    "    return x!=\"\"\n",
    "def tolower(x):\n",
    "    return x.lower()\n",
    "\n",
    "#filter remains varaibles in q ,which nonempty(q)== true value\n",
    "sp=filter(nonempty, q) \n",
    "print sp\n",
    "\n",
    "\n",
    "#map return [tolower(sp)]\n",
    "sp=map(tolower, sp) \n",
    "print sp"
   ]
  },
  {
   "cell_type": "code",
   "execution_count": 69,
   "metadata": {
    "collapsed": false
   },
   "outputs": [
    {
     "name": "stdout",
     "output_type": "stream",
     "text": [
      "{'a': 1, 'just': 2, 'oh': 1, 'i': 1, \"don't\": 1, 'eat': 1, 'shit': 1, 'to': 1, 'are': 1, 'want': 1, 'go': 1, 'you': 2, 'ker': 2, 'talk': 1, 'man': 2}\n"
     ]
    }
   ],
   "source": [
    "def update_dict(x):\n",
    "    w[x]=w.get(x,0)+1\n",
    "    return None\n",
    "\n",
    "w=dict()\n",
    "map(update_dict, sp) \n",
    "print w\n"
   ]
  },
  {
   "cell_type": "code",
   "execution_count": 70,
   "metadata": {
    "collapsed": false
   },
   "outputs": [
    {
     "name": "stdout",
     "output_type": "stream",
     "text": [
      "64\n",
      "8\n"
     ]
    }
   ],
   "source": [
    "# both map ＆ filter are important operations in spark\n",
    "\n",
    "g = lambda x: x**2\n",
    "print g(8)\n",
    "\n",
    "x=(2,3)\n",
    "g=lambda (a,b) :a**b\n",
    "print g(x)\n",
    "\n"
   ]
  },
  {
   "cell_type": "code",
   "execution_count": 71,
   "metadata": {
    "collapsed": false
   },
   "outputs": [
    {
     "name": "stdout",
     "output_type": "stream",
     "text": [
      "{'a': 1, 'just': 2, 'oh': 1, 'i': 1, \"don't\": 1, 'eat': 1, 'shit': 1, 'to': 1, 'are': 1, 'want': 1, 'go': 1, 'you': 2, 'ker': 2, 'talk': 1, 'man': 2}\n"
     ]
    }
   ],
   "source": [
    "def update_dict(x,words):\n",
    "    words[x]=words.get(x,0)+1\n",
    "    return None\n",
    "\n",
    "w=dict()\n",
    "map(lambda x : update_dict(x,w), sp) \n",
    "print w\n"
   ]
  },
  {
   "cell_type": "code",
   "execution_count": 95,
   "metadata": {
    "collapsed": false
   },
   "outputs": [
    {
     "name": "stdout",
     "output_type": "stream",
     "text": [
      "['dogs', 'cats', 'birds']\n",
      "['dogs', 'cats']\n"
     ]
    }
   ],
   "source": [
    "# list comprehension\n",
    "X=['dog','cat','bird']\n",
    "print [i+'s' for i in X]\n",
    "print [i+'s' for i in X if len(i)==3]"
   ]
  },
  {
   "cell_type": "code",
   "execution_count": 1,
   "metadata": {
    "collapsed": false
   },
   "outputs": [
    {
     "name": "stdout",
     "output_type": "stream",
     "text": [
      "[1, 2, 3, 4]\n",
      "[1, 4, 9, 16]\n",
      "[4, 16]\n"
     ]
    }
   ],
   "source": [
    "A=[1,2,3,4]\n",
    "print [i for i in A ]   #[1,2,3,4]\n",
    "print [i**2 for i in A ]  #[1,4,9,16]\n",
    "print [i**2 for i in A if i%2==0] # [4,16]"
   ]
  },
  {
   "cell_type": "markdown",
   "metadata": {},
   "source": [
    "### 3(b) 自訂function + 類別(class)\n"
   ]
  },
  {
   "cell_type": "code",
   "execution_count": 72,
   "metadata": {
    "collapsed": false
   },
   "outputs": [
    {
     "name": "stdout",
     "output_type": "stream",
     "text": [
      "Help on class dog in module __main__:\n",
      "\n",
      "class dog(__builtin__.object)\n",
      " |  I am already a dog, can you leave me alone?\n",
      " |  \n",
      " |  Methods defined here:\n",
      " |  \n",
      " |  __init__(self, name='dog', legs=4, voice='wang!')\n",
      " |  \n",
      " |  bark(self)\n",
      " |      I can bark\n",
      " |  \n",
      " |  come(self)\n",
      " |      You have seen me now ,haven't you?\n",
      " |  \n",
      " |  run(self)\n",
      " |      Don't you think runing is tried?\n",
      " |  \n",
      " |  ----------------------------------------------------------------------\n",
      " |  Data descriptors defined here:\n",
      " |  \n",
      " |  __dict__\n",
      " |      dictionary for instance variables (if defined)\n",
      " |  \n",
      " |  __weakref__\n",
      " |      list of weak references to the object (if defined)\n",
      "\n",
      "None\n"
     ]
    }
   ],
   "source": [
    "#simple class\n",
    "class dog(object):\n",
    "    '''\n",
    "    I am already a dog, can you leave me alone?\n",
    "    '''\n",
    "    def __init__(self,name=\"dog\",legs=4,voice=\"wang!\"):\n",
    "        self.name=name\n",
    "        self.legs=legs\n",
    "        self.voice=voice\n",
    "    def bark(self):\n",
    "        '''\n",
    "        I can bark\n",
    "        '''\n",
    "        print self.voice\n",
    "    def run(self):\n",
    "        '''\n",
    "        Don't you think runing is tried?\n",
    "        '''\n",
    "        if(self.legs==4):\n",
    "            print \"run run run\"\n",
    "        else:\n",
    "            print \"are you 80ing me?\"\n",
    "    def come(self):\n",
    "        '''\n",
    "        You have seen me now ,haven't you?\n",
    "        '''\n",
    "        print self.name+\" is coming!!\"\n",
    "        \n",
    "\n",
    "print (help(dog))\n",
    "\n",
    "        \n"
   ]
  },
  {
   "cell_type": "code",
   "execution_count": 73,
   "metadata": {
    "collapsed": false
   },
   "outputs": [
    {
     "name": "stdout",
     "output_type": "stream",
     "text": [
      "wang!\n",
      "run run run\n",
      "minhan is coming!!\n",
      "awo\n",
      "are you 80ing me?\n",
      "bika is coming!!\n"
     ]
    }
   ],
   "source": [
    "minhan=dog(name=\"minhan\")\n",
    "minhan.bark()\n",
    "minhan.run()\n",
    "minhan.come()\n",
    "\n",
    "bikadog=dog(name=\"bika\",legs=3,voice=\"awo\")\n",
    "bikadog.bark()\n",
    "bikadog.run()\n",
    "bikadog.come()"
   ]
  },
  {
   "cell_type": "code",
   "execution_count": 74,
   "metadata": {
    "collapsed": false
   },
   "outputs": [
    {
     "name": "stdout",
     "output_type": "stream",
     "text": [
      "are you 80ing me?\n"
     ]
    },
    {
     "ename": "AttributeError",
     "evalue": "'dog' object has no attribute '__legs'",
     "output_type": "error",
     "traceback": [
      "\u001b[1;31m---------------------------------------------------------------------------\u001b[0m",
      "\u001b[1;31mAttributeError\u001b[0m                            Traceback (most recent call last)",
      "\u001b[1;32m<ipython-input-74-2c45a9a70f1d>\u001b[0m in \u001b[0;36m<module>\u001b[1;34m()\u001b[0m\n\u001b[0;32m     18\u001b[0m \u001b[0mbikadog\u001b[0m\u001b[1;33m=\u001b[0m\u001b[0mdog\u001b[0m\u001b[1;33m(\u001b[0m\u001b[0mname\u001b[0m\u001b[1;33m=\u001b[0m\u001b[1;34m\"bika\"\u001b[0m\u001b[1;33m,\u001b[0m\u001b[0mlegs\u001b[0m\u001b[1;33m=\u001b[0m\u001b[1;36m3\u001b[0m\u001b[1;33m,\u001b[0m\u001b[0mvoice\u001b[0m\u001b[1;33m=\u001b[0m\u001b[1;34m\"awo\"\u001b[0m\u001b[1;33m)\u001b[0m\u001b[1;33m\u001b[0m\u001b[0m\n\u001b[0;32m     19\u001b[0m \u001b[0mbikadog\u001b[0m\u001b[1;33m.\u001b[0m\u001b[0mrun\u001b[0m\u001b[1;33m(\u001b[0m\u001b[1;33m)\u001b[0m\u001b[1;33m\u001b[0m\u001b[0m\n\u001b[1;32m---> 20\u001b[1;33m \u001b[0mbikadog\u001b[0m\u001b[1;33m.\u001b[0m\u001b[0m__legs\u001b[0m\u001b[1;33m\u001b[0m\u001b[0m\n\u001b[0m",
      "\u001b[1;31mAttributeError\u001b[0m: 'dog' object has no attribute '__legs'"
     ]
    }
   ],
   "source": [
    "#private variable\n",
    "class dog(object):\n",
    "    def __init__(self,name=\"dog\",legs=4,voice=\"wang!\"):\n",
    "        self.name=name\n",
    "        self.__legs=legs\n",
    "        self.voice=voice\n",
    "    def bark(self):\n",
    "        print self.voice\n",
    "    def run(self):\n",
    "        if(self.__legs==4):\n",
    "            print \"run run run\"\n",
    "        else:\n",
    "            print \"are you 80ing me?\"\n",
    "    def come(self):\n",
    "         print self.name+\" is coming!!\"\n",
    "\n",
    "\n",
    "bikadog=dog(name=\"bika\",legs=3,voice=\"awo\")\n",
    "bikadog.run()\n",
    "bikadog.__legs\n"
   ]
  },
  {
   "cell_type": "code",
   "execution_count": 76,
   "metadata": {
    "collapsed": false
   },
   "outputs": [
    {
     "ename": "TypeError",
     "evalue": "unbound method come() must be called with dog instance as first argument (got nothing instead)",
     "output_type": "error",
     "traceback": [
      "\u001b[1;31m---------------------------------------------------------------------------\u001b[0m",
      "\u001b[1;31mTypeError\u001b[0m                                 Traceback (most recent call last)",
      "\u001b[1;32m<ipython-input-76-e486640f1fcb>\u001b[0m in \u001b[0;36m<module>\u001b[1;34m()\u001b[0m\n\u001b[0;32m      1\u001b[0m \u001b[1;31m# not a classmethod\u001b[0m\u001b[1;33m\u001b[0m\u001b[1;33m\u001b[0m\u001b[0m\n\u001b[1;32m----> 2\u001b[1;33m \u001b[0mdog\u001b[0m\u001b[1;33m.\u001b[0m\u001b[0mcome\u001b[0m\u001b[1;33m(\u001b[0m\u001b[1;33m)\u001b[0m\u001b[1;33m\u001b[0m\u001b[0m\n\u001b[0m",
      "\u001b[1;31mTypeError\u001b[0m: unbound method come() must be called with dog instance as first argument (got nothing instead)"
     ]
    }
   ],
   "source": [
    "# not a classmethod\n",
    "dog.come()"
   ]
  },
  {
   "cell_type": "code",
   "execution_count": 77,
   "metadata": {
    "collapsed": false
   },
   "outputs": [
    {
     "name": "stdout",
     "output_type": "stream",
     "text": [
      "bika\n",
      "dog\n",
      "dog is coming!!\n",
      "dog is coming!!\n"
     ]
    }
   ],
   "source": [
    "#classmethod\n",
    "class dog(object):\n",
    "    name=\"dog\"\n",
    "    def __init__(self,name=\"dog\",legs=4,voice=\"wang!\"):\n",
    "        self.name=name\n",
    "        self.__legs=legs\n",
    "        self.voice=voice\n",
    "    def bark(self):\n",
    "        print self.voice\n",
    "    def run(self):\n",
    "        if(self.__legs==4):\n",
    "            print \"run run run\"\n",
    "        else:\n",
    "            print \"are you 80ing me?\"\n",
    "    @classmethod\n",
    "    def come(cls):\n",
    "         print cls.name+\" is coming!!\"\n",
    "\n",
    "\n",
    "bikadog=dog(name=\"bika\",legs=3,voice=\"awo\")\n",
    "print bikadog.name\n",
    "print dog.name\n",
    "dog.come()\n",
    "bikadog.come()"
   ]
  },
  {
   "cell_type": "code",
   "execution_count": 2,
   "metadata": {
    "collapsed": false
   },
   "outputs": [
    {
     "name": "stdout",
     "output_type": "stream",
     "text": [
      "it's class __x\n",
      "0\n",
      "it's class __x\n",
      "0\n",
      "it's instance __x of a\n",
      "1\n"
     ]
    }
   ],
   "source": [
    "# classmethod\n",
    "class Demo:\n",
    "    __x = 0\n",
    "    def __init__(self, n):\n",
    "        self.__n=n\n",
    "        self.__x=1\n",
    "\n",
    "    def hello(self):\n",
    "        print(\"hello\", self.__n)\n",
    "\n",
    "\n",
    "    @classmethod\n",
    "    def getX(cls):\n",
    "        return cls.__x\n",
    "\n",
    "\n",
    "    def getX1(self):\n",
    "        return self.__x\n",
    "\n",
    "a = Demo(\"Tom\")\n",
    "print \"it's class __x\"\n",
    "print Demo.getX()\n",
    "print \"it's class __x\"\n",
    "print a.getX()\n",
    "print \"it's instance __x of a\"\n",
    "print a.getX1()\n",
    "\n"
   ]
  },
  {
   "cell_type": "code",
   "execution_count": 7,
   "metadata": {
    "collapsed": false
   },
   "outputs": [
    {
     "name": "stdout",
     "output_type": "stream",
     "text": [
      "it's class __x : 1\n",
      "it's class __x : 1\n",
      "it's instance __x  of b: 1\n",
      "it's class __x : 2\n",
      "it's class __x : 2\n",
      "it's instance __x  of b: 2\n"
     ]
    }
   ],
   "source": [
    "class Demo:\n",
    "    __x = 0\n",
    "    def __init__(self, n):\n",
    "        self.__n=n\n",
    "        Demo.__x+=1 \n",
    "        self.__x=Demo.__x\n",
    "\n",
    "    def hello(self):\n",
    "        print(\"hello\", self.__n)\n",
    "\n",
    "    @classmethod\n",
    "    def getX(cls):\n",
    "        return cls.__x\n",
    "\n",
    "    def getX1(self):\n",
    "        return self.__x\n",
    "    \n",
    "a = Demo(\"Tom\")\n",
    "print \"it's class __x : \"+ str(a.getX1())\n",
    "print \"it's class __x : \"+ str(a.getX1())\n",
    "print \"it's instance __x  of b: \" +str(a.getX1())\n",
    " \n",
    "b= Demo(\"John\")\n",
    "print \"it's class __x : \"+ str(b.getX1())\n",
    "print \"it's class __x : \" + str(b.getX1())\n",
    "print \"it's instance __x  of b: \" +str(b.getX1())\n",
    " \n",
    "    \n",
    "    "
   ]
  },
  {
   "cell_type": "markdown",
   "metadata": {},
   "source": [
    "#### lets go on with decision tree classifier\n",
    "\n",
    "![title](simpledcisiontree.png)"
   ]
  },
  {
   "cell_type": "code",
   "execution_count": 79,
   "metadata": {
    "collapsed": false
   },
   "outputs": [
    {
     "name": "stdout",
     "output_type": "stream",
     "text": [
      "youngassboy\n",
      "oldassboy\n"
     ]
    }
   ],
   "source": [
    "#claim a node class to resent each node\n",
    "class Node(object):\n",
    "    def __init__(self, r=None,l=None,label=None,val=None):\n",
    "        self.l = l\n",
    "        self.r = r\n",
    "        self.label = label\n",
    "        self.val = val\n",
    "        \n",
    "Node1=Node(r=3,l=2,label=\"age\",val=50)\n",
    "Node2=Node(label=\"youngassboy\")\n",
    "Node3=Node(label=\"oldassboy\")\n",
    "\n",
    "simpletree={1:Node1,2:Node2,3:Node3}\n",
    "\n",
    "def classifier(x,simpletree):\n",
    "    ''' input attr x(dict) ,simpletree(dict) ,output class'''\n",
    "    ID=1\n",
    "    while(simpletree[ID].val!=None):\n",
    "        if x[simpletree[ID].label]>simpletree[ID].val :\n",
    "            ID=simpletree[ID].r\n",
    "        else:\n",
    "            ID=simpletree[ID].l\n",
    "        label=simpletree[ID].label\n",
    "    return label\n",
    "\n",
    "\n",
    "LR={\"age\":18}\n",
    "J4={\"age\":52}\n",
    "\n",
    "\n",
    "print classifier(LR,simpletree)\n",
    "print classifier(J4,simpletree)"
   ]
  },
  {
   "cell_type": "markdown",
   "metadata": {},
   "source": [
    "### (excerise 1 )\n",
    "#### 小明 (small_min)是個口袋很多的傢伙\n",
    "#### 請建立小明的class:\n",
    "+ #### (a) 初始化 小明 with 口袋數 與 口袋List\n",
    "+ #### (b) 小明功能一 showcounts : 展示 有幾個口袋 ( pocket counts : n)\n",
    "+ #### (c) 小明功能二 showoff : 展示口袋 (pocket1 : \"ooxx\" pocket2 : \"ooxx\")"
   ]
  },
  {
   "cell_type": "code",
   "execution_count": null,
   "metadata": {
    "collapsed": true
   },
   "outputs": [],
   "source": [
    "pocket_list=['ooxx','ooxx1','oopp1']"
   ]
  },
  {
   "cell_type": "markdown",
   "metadata": {},
   "source": [
    "# 耶 Lab4 類別2 繼承/ 例外處理\n",
    "### 4(a) class繼承"
   ]
  },
  {
   "cell_type": "code",
   "execution_count": 5,
   "metadata": {
    "collapsed": false
   },
   "outputs": [
    {
     "name": "stdout",
     "output_type": "stream",
     "text": [
      "kerker\n",
      "dog is coming!!\n"
     ]
    }
   ],
   "source": [
    "class Dog(object):\n",
    "    name=\"dog\"\n",
    "    testv=\"kerker\"\n",
    "    def __init__(self,name=\"dog\",legs=4,voice=\"wang!\"):\n",
    "        self.name=name\n",
    "        self.__legs=legs\n",
    "        self.voice=voice\n",
    "    def bark(self):\n",
    "        print self.voice\n",
    "    def run(self):\n",
    "        if(self.__legs==4):\n",
    "            print \"run run run\"\n",
    "        else:\n",
    "            print \"are you 80ing me?\"\n",
    "    @classmethod\n",
    "    def come(cls):\n",
    "         print cls.name+\" is coming!!\"\n",
    "    def test(self):\n",
    "        print self.testv\n",
    "\n",
    "\n",
    "            \n",
    "class Corea(Dog):\n",
    "    def __init__(self,name=\"dog\",legs=4,voice=\"wang!\"):\n",
    "        super(Corea, self).__init__(name,legs,voice)\n",
    "        self.howhow=\"sungsungsung\"\n",
    "\n",
    "\n",
    "\n",
    "Liter=Corea(name=\"Liter\")\n",
    "\n",
    "Liter.test()\n",
    "Liter.come()\n"
   ]
  },
  {
   "cell_type": "code",
   "execution_count": 27,
   "metadata": {
    "collapsed": false
   },
   "outputs": [
    {
     "name": "stdout",
     "output_type": "stream",
     "text": [
      "kerker\n",
      "Liter is coming!!\n"
     ]
    }
   ],
   "source": [
    "class Dog(object):\n",
    "    name=\"dog\"\n",
    "    __testv=\"kerker\"\n",
    "    def __init__(self,name=\"dog\",legs=4,voice=\"wang!\"):\n",
    "        self.name=name\n",
    "        self.__legs=legs\n",
    "        self.voice=voice\n",
    "    def bark(self):\n",
    "        print self.voice\n",
    "    def run(self):\n",
    "        if(self.__legs==4):\n",
    "            print \"run run run\"\n",
    "        else:\n",
    "            print \"are you 80ing me?\"\n",
    "    def come(cls):\n",
    "         print cls.name+\" is coming!!\"\n",
    "    def test(self):\n",
    "        print self.__testv\n",
    "\n",
    "\n",
    "class Corea(Dog):\n",
    "    def __init__(self,name=\"dog\",legs=4,voice=\"wang!\"):\n",
    "        super(Corea, self).__init__(name,legs,voice)\n",
    "        self.howhow=\"samsung\"\n",
    "\n",
    "\n",
    "\n",
    "liter=Corea(name=\"Liter\")\n",
    "\n",
    "liter.test()\n",
    "liter.come()\n"
   ]
  },
  {
   "cell_type": "markdown",
   "metadata": {},
   "source": [
    "##  Multiple Inheritance"
   ]
  },
  {
   "cell_type": "code",
   "execution_count": 39,
   "metadata": {
    "collapsed": false
   },
   "outputs": [
    {
     "name": "stdout",
     "output_type": "stream",
     "text": [
      "交大非電非資,魯蛇\n",
      "AnAn 18y ,home boy, loser\n",
      "交大電/資,winner\n",
      "AnAn 18y ,home boy, winner\n",
      "金城武到新竹(金城武的功能比較重要)\n",
      "AnAn 18y ,home boy, handsome winner\n",
      "新竹金城武(新竹的功能比較重要)\n",
      "AnAn 18y ,home boy, loser\n"
     ]
    }
   ],
   "source": [
    "class HsinChu(object):\n",
    "    attr=\"home boy\"\n",
    "    def __init__(self,Nctu,EorCs,age):\n",
    "        if (Nctu==1 and EorCs==1):\n",
    "            self.winorlose=\"winner\"\n",
    "        else:\n",
    "            self.winorlose=\"loser\"\n",
    "        self.age=age\n",
    "    def introduce(self):\n",
    "        print \"AnAn \"+str(self.age)+\"y ,\"+self.attr+\", \"+self.winorlose\n",
    "    def id_test(self):\n",
    "        print 123\n",
    "        \n",
    "xx=HsinChu(1,0,18)   \n",
    "print \"交大非電非資,魯蛇\"\n",
    "xx.introduce()   \n",
    "xx=HsinChu(1,1,18) \n",
    "print \"交大電/資,winner\"\n",
    "xx.introduce()   \n",
    "\n",
    "class GoldenCity5(object):\n",
    "    def __init__(self,age):\n",
    "        self.winorlose=\"handsome winner\"\n",
    "        self.age=age\n",
    "    def id_test(self):\n",
    "        print 123\n",
    "        \n",
    "class Xxx(GoldenCity5,HsinChu):\n",
    "        def introduce(self):\n",
    "            print \"AnAn \"+str(self.age)+\"y ,\"+self.attr+\", \"+self.winorlose\n",
    "\n",
    "            \n",
    "class Xxx1(HsinChu,GoldenCity5):\n",
    "        def introduce(self):\n",
    "            print \"AnAn \"+str(self.age)+\"y ,\"+self.attr+\", \"+self.winorlose\n",
    "\n",
    "\n",
    "print \"金城武到新竹(金城武的功能比較重要)\"\n",
    "xx=Xxx(18)        \n",
    "xx.introduce()\n",
    "            \n",
    "print \"新竹金城武(新竹的功能比較重要)\"\n",
    "xx=Xxx1(1,0,18)        \n",
    "xx.introduce()\n",
    "            "
   ]
  },
  {
   "cell_type": "code",
   "execution_count": 40,
   "metadata": {
    "collapsed": false
   },
   "outputs": [
    {
     "name": "stdout",
     "output_type": "stream",
     "text": [
      "<function id_test at 0x7ff6a0115b90>\n",
      "<function id_test at 0x7ff6a0115c80>\n",
      "<function id_test at 0x7ff6a0115c80>\n",
      "<function id_test at 0x7ff6a0115b90>\n"
     ]
    }
   ],
   "source": [
    "# the left size classes have higher priority\n",
    "print xx.id_test.im_func\n",
    "print Xxx.id_test.im_func\n",
    "print GoldenCity5.id_test.im_func\n",
    "print HsinChu.id_test.im_func\n"
   ]
  },
  {
   "cell_type": "markdown",
   "metadata": {},
   "source": [
    "## why im_func?? bounded method ids  [ref](http://inarrater.com/archives/)"
   ]
  },
  {
   "cell_type": "code",
   "execution_count": 16,
   "metadata": {
    "collapsed": true
   },
   "outputs": [],
   "source": [
    "class Asian_loser():\n",
    "    def kerker(self):\n",
    "        self.w=1\n",
    "    @classmethod\n",
    "    def loss(self):\n",
    "        print 123\n",
    "    @staticmethod\n",
    "    def wwww():\n",
    "        print 123"
   ]
  },
  {
   "cell_type": "code",
   "execution_count": 17,
   "metadata": {
    "collapsed": true
   },
   "outputs": [],
   "source": [
    "w=Asian_loser()"
   ]
  },
  {
   "cell_type": "code",
   "execution_count": 18,
   "metadata": {
    "collapsed": false
   },
   "outputs": [
    {
     "name": "stdout",
     "output_type": "stream",
     "text": [
      "140601080342080\n",
      "140601080342080\n",
      "140601069907552\n",
      "140601080342080\n",
      "140601080342080\n",
      "140601069907552\n"
     ]
    }
   ],
   "source": [
    "print(id(Asian_loser.loss))\n",
    "print(id(Asian_loser.kerker))\n",
    "print(id(Asian_loser.wwww))\n",
    "\n",
    "print(id(w.kerker))\n",
    "print(id(w.loss))\n",
    "print(id(w.wwww))"
   ]
  },
  {
   "cell_type": "code",
   "execution_count": 24,
   "metadata": {
    "collapsed": false
   },
   "outputs": [
    {
     "data": {
      "text/plain": [
       "<bound method classobj.loss of <class __main__.Asian_loser at 0x7fe03cd29808>>"
      ]
     },
     "execution_count": 24,
     "metadata": {},
     "output_type": "execute_result"
    }
   ],
   "source": [
    "w.loss"
   ]
  },
  {
   "cell_type": "code",
   "execution_count": 25,
   "metadata": {
    "collapsed": false
   },
   "outputs": [
    {
     "name": "stdout",
     "output_type": "stream",
     "text": [
      "<function kerker at 0x7fe03cdaecf8> <function kerker at 0x7fe03cdaecf8>\n",
      "<function loss at 0x7fe03cd3ade8> <function loss at 0x7fe03cd3ade8>\n"
     ]
    }
   ],
   "source": [
    "print Asian_loser.kerker.im_func, w.kerker.im_func    \n",
    "print Asian_loser.loss.im_func, w.loss.im_func   "
   ]
  },
  {
   "cell_type": "markdown",
   "metadata": {},
   "source": [
    "無論是bound method還是unbound method，都是有im_func和im_class這兩個屬性的，其中im_func屬性就是A.__dict__中的foo對象，im_class就是A對象，這樣就不難猜測a.foo調用過程中的過程，最終是通過im_class和im_func來找到真正執行的代碼。"
   ]
  },
  {
   "cell_type": "raw",
   "metadata": {},
   "source": [
    "## __init__, __str__ ,__del__"
   ]
  },
  {
   "cell_type": "code",
   "execution_count": 4,
   "metadata": {
    "collapsed": false,
    "scrolled": true
   },
   "outputs": [
    {
     "name": "stdout",
     "output_type": "stream",
     "text": [
      "oh yes , delete me\n",
      "hello\n",
      " you want to print me??\n",
      "are you calling me??loser\n",
      "oh yes , delete me\n"
     ]
    }
   ],
   "source": [
    "class Demo:\n",
    "    \"\"\"heyheyhey\"\"\"\n",
    "    def __init__(self,age):\n",
    "        self.age=age\n",
    "    def __str__(self):\n",
    "        return \" you want to print me??\"\n",
    "    def __del__(self):\n",
    "        print \"oh yes , delete me\"\n",
    "    def hello(self):\n",
    "        print \"hello\"\n",
    "        \n",
    "        \n",
    "a = Demo(15) \n",
    "a = Demo(15) \n",
    "a.hello()\n",
    "print a\n",
    "a(\"loser\")\n",
    "del a"
   ]
  },
  {
   "cell_type": "raw",
   "metadata": {},
   "source": [
    "# __call__ , __help__ , __add__"
   ]
  },
  {
   "cell_type": "code",
   "execution_count": 24,
   "metadata": {
    "collapsed": false
   },
   "outputs": [
    {
     "name": "stdout",
     "output_type": "stream",
     "text": [
      "Help on class Demo in module __main__:\n",
      "\n",
      "class Demo\n",
      " |  heyheyhey , it's my class\n",
      " |  \n",
      " |  Methods defined here:\n",
      " |  \n",
      " |  __add__(self, xxxx)\n",
      " |  \n",
      " |  __call__(self, number)\n",
      " |      give me a number ^.,>\n",
      " |  \n",
      " |  __init__(self, age)\n",
      " |  \n",
      " |  hello(self, name)\n",
      " |      usage: instance.hello(name)\n",
      "\n"
     ]
    }
   ],
   "source": [
    "class Demo:\n",
    "    \"heyheyhey , it's my class\"\n",
    "    def __init__(self,age):\n",
    "        self.age=age\n",
    "    def __call__(self,number):\n",
    "        \"give me a number ^.,>\"\n",
    "        for i in range(number):\n",
    "            print \"I'm \"+str(self.age)+\" old\"\n",
    "    def __add__(self,xxxx):\n",
    "        return Demo(self.age+xxxx.age)\n",
    "    def hello(self,name):\n",
    "        \"usage: instance.hello(name)\"\n",
    "        print \"hello, \"+name\n",
    "        \n",
    "        \n",
    "help(Demo)\n"
   ]
  },
  {
   "cell_type": "code",
   "execution_count": 26,
   "metadata": {
    "collapsed": false
   },
   "outputs": [
    {
     "name": "stdout",
     "output_type": "stream",
     "text": [
      "I'm 13 old\n",
      "I'm 13 old\n",
      "I'm 13 old\n",
      "I'm 13 old\n",
      "I'm 13 old\n",
      "I'm 39 old\n",
      "I'm 39 old\n",
      "I'm 39 old\n",
      "I'm 39 old\n"
     ]
    }
   ],
   "source": [
    "a=Demo(13)\n",
    "a(5)\n",
    "b=Demo(26)\n",
    "c=a+b\n",
    "c(4)"
   ]
  },
  {
   "cell_type": "markdown",
   "metadata": {},
   "source": [
    "### 4(b) try except"
   ]
  },
  {
   "cell_type": "code",
   "execution_count": 84,
   "metadata": {
    "collapsed": false
   },
   "outputs": [
    {
     "ename": "ZeroDivisionError",
     "evalue": "integer division or modulo by zero",
     "output_type": "error",
     "traceback": [
      "\u001b[1;31m---------------------------------------------------------------------------\u001b[0m",
      "\u001b[1;31mZeroDivisionError\u001b[0m                         Traceback (most recent call last)",
      "\u001b[1;32m<ipython-input-84-05c9758a9c21>\u001b[0m in \u001b[0;36m<module>\u001b[1;34m()\u001b[0m\n\u001b[1;32m----> 1\u001b[1;33m \u001b[1;36m1\u001b[0m\u001b[1;33m/\u001b[0m\u001b[1;36m0\u001b[0m\u001b[1;33m\u001b[0m\u001b[0m\n\u001b[0m",
      "\u001b[1;31mZeroDivisionError\u001b[0m: integer division or modulo by zero"
     ]
    }
   ],
   "source": [
    "1/0"
   ]
  },
  {
   "cell_type": "code",
   "execution_count": 85,
   "metadata": {
    "collapsed": false
   },
   "outputs": [
    {
     "name": "stdout",
     "output_type": "stream",
     "text": [
      "pass\n"
     ]
    }
   ],
   "source": [
    "try:\n",
    "    1/0\n",
    "except:\n",
    "    print \"pass\""
   ]
  },
  {
   "cell_type": "code",
   "execution_count": 86,
   "metadata": {
    "collapsed": false
   },
   "outputs": [
    {
     "name": "stdout",
     "output_type": "stream",
     "text": [
      "pass\n"
     ]
    }
   ],
   "source": [
    "try:\n",
    "    1/0\n",
    "except ZeroDivisionError:\n",
    "    print \"pass\""
   ]
  },
  {
   "cell_type": "code",
   "execution_count": 87,
   "metadata": {
    "collapsed": false
   },
   "outputs": [
    {
     "ename": "ZeroDivisionError",
     "evalue": "integer division or modulo by zero",
     "output_type": "error",
     "traceback": [
      "\u001b[1;31m---------------------------------------------------------------------------\u001b[0m",
      "\u001b[1;31mZeroDivisionError\u001b[0m                         Traceback (most recent call last)",
      "\u001b[1;32m<ipython-input-87-e436d0d28b90>\u001b[0m in \u001b[0;36m<module>\u001b[1;34m()\u001b[0m\n\u001b[0;32m      1\u001b[0m \u001b[1;32mtry\u001b[0m\u001b[1;33m:\u001b[0m\u001b[1;33m\u001b[0m\u001b[0m\n\u001b[1;32m----> 2\u001b[1;33m     \u001b[1;36m1\u001b[0m\u001b[1;33m/\u001b[0m\u001b[1;36m0\u001b[0m\u001b[1;33m\u001b[0m\u001b[0m\n\u001b[0m\u001b[0;32m      3\u001b[0m \u001b[1;32mexcept\u001b[0m \u001b[0mNameError\u001b[0m\u001b[1;33m:\u001b[0m\u001b[1;33m\u001b[0m\u001b[0m\n\u001b[0;32m      4\u001b[0m     \u001b[1;32mprint\u001b[0m \u001b[1;34m\"pass\"\u001b[0m\u001b[1;33m\u001b[0m\u001b[0m\n",
      "\u001b[1;31mZeroDivisionError\u001b[0m: integer division or modulo by zero"
     ]
    }
   ],
   "source": [
    "try:\n",
    "    1/0\n",
    "except NameError:\n",
    "    print \"pass\""
   ]
  },
  {
   "cell_type": "code",
   "execution_count": 88,
   "metadata": {
    "collapsed": false
   },
   "outputs": [
    {
     "name": "stdout",
     "output_type": "stream",
     "text": [
      "NameError\n"
     ]
    }
   ],
   "source": [
    "try:\n",
    "    opdppd\n",
    "except NameError:\n",
    "    print \"NameError\"\n",
    "except ZeroDivisionError:\n",
    "    print \"ZeroDivisionError\""
   ]
  },
  {
   "cell_type": "code",
   "execution_count": 89,
   "metadata": {
    "collapsed": false
   },
   "outputs": [
    {
     "ename": "LoserError",
     "evalue": "",
     "output_type": "error",
     "traceback": [
      "\u001b[1;31m---------------------------------------------------------------------------\u001b[0m",
      "\u001b[1;31mLoserError\u001b[0m                                Traceback (most recent call last)",
      "\u001b[1;32m<ipython-input-89-17f535d7a342>\u001b[0m in \u001b[0;36m<module>\u001b[1;34m()\u001b[0m\n\u001b[0;32m      2\u001b[0m \u001b[0mloser\u001b[0m\u001b[1;33m=\u001b[0m\u001b[1;36m1\u001b[0m\u001b[1;33m\u001b[0m\u001b[0m\n\u001b[0;32m      3\u001b[0m \u001b[1;32mif\u001b[0m\u001b[1;33m(\u001b[0m\u001b[0mloser\u001b[0m\u001b[1;33m==\u001b[0m\u001b[1;36m1\u001b[0m\u001b[1;33m)\u001b[0m\u001b[1;33m:\u001b[0m\u001b[1;33m\u001b[0m\u001b[0m\n\u001b[1;32m----> 4\u001b[1;33m     \u001b[1;32mraise\u001b[0m \u001b[0mLoserError\u001b[0m\u001b[1;33m\u001b[0m\u001b[0m\n\u001b[0m",
      "\u001b[1;31mLoserError\u001b[0m: "
     ]
    }
   ],
   "source": [
    "class  LoserError(Exception): pass\n",
    "loser=1\n",
    "if(loser==1):\n",
    "    raise LoserError"
   ]
  },
  {
   "cell_type": "code",
   "execution_count": 90,
   "metadata": {
    "collapsed": false
   },
   "outputs": [
    {
     "name": "stdout",
     "output_type": "stream",
     "text": [
      " forgive loser\n"
     ]
    }
   ],
   "source": [
    "class  LoserError(Exception): pass\n",
    "\n",
    "try:\n",
    "    loser=1\n",
    "    if(loser==1):\n",
    "        raise LoserError\n",
    "except NameError:\n",
    "    print \"NameError\"\n",
    "except ZeroDivisionError:\n",
    "    print \"ZeroDivisionError\"\n",
    "except LoserError:\n",
    "    print \" forgive loser\"\n",
    "\n"
   ]
  },
  {
   "cell_type": "markdown",
   "metadata": {},
   "source": [
    "* * *"
   ]
  },
  {
   "cell_type": "markdown",
   "metadata": {},
   "source": [
    "## Lab learn some useful technique, [regular expression](https://docs.google.com/presentation/d/1b_5JR8L3h6jwuZZP4LbP_fl7_Q1txlR77sb0TqlHt6w/edit?usp=sharing)\n",
    "#### [regregex101](https://regex101.com/)"
   ]
  },
  {
   "cell_type": "code",
   "execution_count": 49,
   "metadata": {
    "collapsed": false
   },
   "outputs": [
    {
     "name": "stdout",
     "output_type": "stream",
     "text": [
      "what can 19 do?\n",
      "swiming\n",
      "jogging\n",
      "hand_shaking\n"
     ]
    }
   ],
   "source": [
    "import re\n",
    "x=[\"I wanna go swiming.\",\\\n",
    "\"I wanna go jogging.\",\\\n",
    "\"I wanna go hand_shaking.\"]\n",
    "# how many skill did x have , we observe that each string were very similar. (seems pattern there)\n",
    "pattern='^I wanna go ([a-zA-Z_]*)\\.$'\n",
    "\n",
    "print \"what can 19 do?\"\n",
    "for i in x:\n",
    "    match = re.search(pattern,i)\n",
    "    if(match!=None):\n",
    "        print match.groups()[0]"
   ]
  },
  {
   "cell_type": "markdown",
   "metadata": {},
   "source": [
    "# Hw for python\n",
    "## strings below were the decision tree text output from R C5.0 ：        \n",
    "#### digraph g {\n",
    "#### N0 [label=\"dport\" ]\n",
    "#### N0->N1 [label=\"<= 80\"]\n",
    "#### N1 [label=\"sport\" ]\n",
    "#### N1->N2 [label=\"<= 49534\"]\n",
    "#### .....\n",
    "#### }\n",
    "\n",
    "## a more simple tree       \n",
    "#### digraph g {\n",
    "#### N0 [label=\"age\" ]\n",
    "#### N0->N1 [label=\"<= 50\"]\n",
    "#### N1 [label=\"youngassboy\" ]\n",
    "#### N0->N2 [label=\"> 50\"]\n",
    "#### N2 [label=\"oldassboy\" ]\n",
    "#### }\n",
    "\n",
    "###  There are two types of rule in string, \n",
    "###  one records label of node e.g. N0 [label=\"age\" ],\n",
    "###  the other records rules and direction e.g. N0->N2 [label=\"> 50\"].\n",
    "###   We want to parse all of it , and create a tree classifier."
   ]
  },
  {
   "cell_type": "code",
   "execution_count": 43,
   "metadata": {
    "collapsed": false
   },
   "outputs": [
    {
     "name": "stdout",
     "output_type": "stream",
     "text": [
      "========================tree structure========================\n",
      "['digraph g {\\r\\n', 'N0 [label=\"dport\" ]\\r\\n', 'N0->N1 [label=\"<= 80\"]\\r\\n', 'N1 [label=\"sport\" ]\\r\\n', 'N1->N2 [label=\"<= 49534\"]\\r\\n', 'N2 [label=\" HTTP.Apple\" shape=box style=filled ]\\r\\n', 'N1->N3 [label=\"> 49534\"]\\r\\n', 'N3 [label=\"sport\" ]\\r\\n', 'N3->N4 [label=\"> 49736\"]\\r\\n', 'N4 [label=\"sport\" ]\\r\\n']\n",
      "========================test data========================\n",
      "{'totalsizA': '25759', 'sport': '49310', 'No_segB': '1', 'packet5': '1107', 'packet4': '1398', 'packet3': '1398', 'packet2': '1398', 'packet1': '671', 'No_segA': '24', 'No_segFr': '25', 'dport': '443', 'totalsizB': '85', 'totalsizFr': '25844'}\n",
      "{'totalsizA': '6522', 'sport': '49311', 'No_segB': '2', 'packet5': '1189', 'packet4': '1105', 'packet3': '185', 'packet2': '1360', 'packet1': '279', 'No_segA': '12', 'No_segFr': '14', 'dport': '443', 'totalsizB': '382', 'totalsizFr': '6904'}\n",
      "{'totalsizA': '5785', 'sport': '49316', 'No_segB': '1', 'packet5': '533', 'packet4': '901', 'packet3': '309', 'packet2': '533', 'packet1': '901', 'No_segA': '11', 'No_segFr': '12', 'dport': '443', 'totalsizB': '901', 'totalsizFr': '6686'}\n"
     ]
    }
   ],
   "source": [
    "data=[]\n",
    "with open(\"tree_graph.txt\") as infile:\n",
    "    for line in infile:\n",
    "        data.append(line)\n",
    "\n",
    "print \"========================tree structure========================\"\n",
    "\n",
    "print data[0:10]\n",
    "\n",
    "\n",
    "colname=['packet1','packet2','packet3','packet4','packet5','No_segA','No_segB','No_segFr','totalsizA','totalsizB','totalsizFr','dport', 'sport']\n",
    "\n",
    "testdata=[]\n",
    "with open(\"flowsB.txt\") as infile:\n",
    "    for line in infile:\n",
    "        line=line.replace(\"\\r\\n\", \"\")\n",
    "        x=line.split(\",\")\n",
    "        testdata.append(dict(zip(colname,x)))\n",
    "        \n",
    "print \"========================test data========================\"    \n",
    "# NODE:30\n",
    "print testdata[0]\n",
    "# NODE:30\n",
    "print testdata[1]\n",
    "# NODE:27\n",
    "print testdata[5]\n"
   ]
  },
  {
   "cell_type": "code",
   "execution_count": null,
   "metadata": {
    "collapsed": true
   },
   "outputs": [],
   "source": [
    "### create your own classifier ####\n",
    "# 1.create node class\n",
    "# 2. parse string to update/create tree node as a tree\n",
    "# 3. use tree to perfrom a classifier\n",
    "# hint (tree object can be a dictionary with key: ID and value :node)\n",
    "\n",
    "\n",
    "\n"
   ]
  },
  {
   "cell_type": "code",
   "execution_count": null,
   "metadata": {
    "collapsed": false
   },
   "outputs": [],
   "source": [
    "# first eight element should be\n",
    "[u' SSL.AppleiTunes', u' SSL.AppleiTunes', u' SSL.AppleiTunes', u' SSL.AppleiTunes', u' SSL.Apple', u' SSL.Apple', u' SSL.Apple', u' SSL.Apple']"
   ]
  },
  {
   "cell_type": "code",
   "execution_count": null,
   "metadata": {
    "collapsed": true
   },
   "outputs": [],
   "source": []
  }
 ],
 "metadata": {
  "kernelspec": {
   "display_name": "Python [Root]",
   "language": "python",
   "name": "Python [Root]"
  },
  "language_info": {
   "codemirror_mode": {
    "name": "ipython",
    "version": 2
   },
   "file_extension": ".py",
   "mimetype": "text/x-python",
   "name": "python",
   "nbconvert_exporter": "python",
   "pygments_lexer": "ipython2",
   "version": "2.7.12"
  }
 },
 "nbformat": 4,
 "nbformat_minor": 0
}
